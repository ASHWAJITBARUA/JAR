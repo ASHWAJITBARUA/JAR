{
 "cells": [
  {
   "cell_type": "markdown",
   "id": "0979c8aa",
   "metadata": {},
   "source": [
    "# Walmart Data Analysis"
   ]
  },
  {
   "cell_type": "markdown",
   "id": "e6cef203",
   "metadata": {},
   "source": [
    "## We will do: \n",
    "1) Data Loading \n",
    "2) Exploratory Data Analysis \n",
    "3) Data Cleaning \n",
    "4) Analyze the performance of sales and revenue at the city and branch level \n",
    "5) What is the average price of an item sold at each branch of the city \n",
    "6) Analyze the performance of sales and revenue, Month over Month across the Product line, Gender, and Payment Method, and identify the focus areas to get better sales for April 2019"
   ]
  },
  {
   "cell_type": "markdown",
   "id": "99fc8dde",
   "metadata": {},
   "source": [
    "## 1. Data Loading"
   ]
  },
  {
   "cell_type": "code",
   "execution_count": 32,
   "id": "5d4d431b",
   "metadata": {},
   "outputs": [
    {
     "name": "stdout",
     "output_type": "stream",
     "text": [
      "Requirement already satisfied: pandas in c:\\users\\hp\\anaconda3\\lib\\site-packages (1.5.3)\n",
      "Requirement already satisfied: numpy in c:\\users\\hp\\anaconda3\\lib\\site-packages (1.24.3)\n",
      "Requirement already satisfied: python-dateutil>=2.8.1 in c:\\users\\hp\\anaconda3\\lib\\site-packages (from pandas) (2.8.2)\n",
      "Requirement already satisfied: pytz>=2020.1 in c:\\users\\hp\\anaconda3\\lib\\site-packages (from pandas) (2022.7)\n",
      "Requirement already satisfied: six>=1.5 in c:\\users\\hp\\anaconda3\\lib\\site-packages (from python-dateutil>=2.8.1->pandas) (1.16.0)\n",
      "Note: you may need to restart the kernel to use updated packages.\n"
     ]
    }
   ],
   "source": [
    "pip install pandas numpy"
   ]
  },
  {
   "cell_type": "code",
   "execution_count": 33,
   "id": "b46250f0",
   "metadata": {},
   "outputs": [],
   "source": [
    "#Importing necessary libraries\n",
    "import pandas as pd\n",
    "\n",
    "#Loading the dataset\n",
    "data = pd.read_csv('Copy of Walmart Sales.csv')"
   ]
  },
  {
   "cell_type": "markdown",
   "id": "f1a24a22",
   "metadata": {},
   "source": [
    "## 2. Exploratory Data Analysis"
   ]
  },
  {
   "cell_type": "code",
   "execution_count": 34,
   "id": "a0665388",
   "metadata": {},
   "outputs": [
    {
     "data": {
      "text/plain": [
       "(1002, 21)"
      ]
     },
     "execution_count": 34,
     "metadata": {},
     "output_type": "execute_result"
    }
   ],
   "source": [
    "data.shape"
   ]
  },
  {
   "cell_type": "code",
   "execution_count": 35,
   "id": "666f072c",
   "metadata": {},
   "outputs": [
    {
     "name": "stdout",
     "output_type": "stream",
     "text": [
      "<class 'pandas.core.frame.DataFrame'>\n",
      "RangeIndex: 1002 entries, 0 to 1001\n",
      "Data columns (total 21 columns):\n",
      " #   Column         Non-Null Count  Dtype  \n",
      "---  ------         --------------  -----  \n",
      " 0   Invoice ID     1000 non-null   object \n",
      " 1   Branch         1000 non-null   object \n",
      " 2   City           1000 non-null   object \n",
      " 3   Customer type  1000 non-null   object \n",
      " 4   Gender         1000 non-null   object \n",
      " 5   Product line   1000 non-null   object \n",
      " 6   Unit price     1000 non-null   float64\n",
      " 7   Quantity       1000 non-null   float64\n",
      " 8   Date           1000 non-null   object \n",
      " 9   Time           1000 non-null   object \n",
      " 10  Payment        1000 non-null   object \n",
      " 11  Rating         1000 non-null   float64\n",
      " 12  Unnamed: 12    0 non-null      float64\n",
      " 13  Unnamed: 13    0 non-null      float64\n",
      " 14  Unnamed: 14    0 non-null      float64\n",
      " 15  Unnamed: 15    0 non-null      float64\n",
      " 16  Unnamed: 16    0 non-null      float64\n",
      " 17  Unnamed: 17    0 non-null      float64\n",
      " 18  Unnamed: 18    0 non-null      float64\n",
      " 19  Unnamed: 19    0 non-null      float64\n",
      " 20  Unnamed: 20    0 non-null      float64\n",
      "dtypes: float64(12), object(9)\n",
      "memory usage: 164.5+ KB\n"
     ]
    }
   ],
   "source": [
    "data.info()"
   ]
  },
  {
   "cell_type": "code",
   "execution_count": 36,
   "id": "8d4d2a3d",
   "metadata": {},
   "outputs": [
    {
     "data": {
      "text/plain": [
       "Invoice ID          2\n",
       "Branch              2\n",
       "City                2\n",
       "Customer type       2\n",
       "Gender              2\n",
       "Product line        2\n",
       "Unit price          2\n",
       "Quantity            2\n",
       "Date                2\n",
       "Time                2\n",
       "Payment             2\n",
       "Rating              2\n",
       "Unnamed: 12      1002\n",
       "Unnamed: 13      1002\n",
       "Unnamed: 14      1002\n",
       "Unnamed: 15      1002\n",
       "Unnamed: 16      1002\n",
       "Unnamed: 17      1002\n",
       "Unnamed: 18      1002\n",
       "Unnamed: 19      1002\n",
       "Unnamed: 20      1002\n",
       "dtype: int64"
      ]
     },
     "execution_count": 36,
     "metadata": {},
     "output_type": "execute_result"
    }
   ],
   "source": [
    "#checking for null values\n",
    "data.isnull().sum()"
   ]
  },
  {
   "cell_type": "code",
   "execution_count": 37,
   "id": "de8eefdb",
   "metadata": {},
   "outputs": [
    {
     "data": {
      "text/plain": [
       "1"
      ]
     },
     "execution_count": 37,
     "metadata": {},
     "output_type": "execute_result"
    }
   ],
   "source": [
    "#checking for duplicated values\n",
    "data.duplicated().sum()"
   ]
  },
  {
   "cell_type": "markdown",
   "id": "e77d4675",
   "metadata": {},
   "source": [
    "## 3. Data Cleaning"
   ]
  },
  {
   "cell_type": "code",
   "execution_count": 38,
   "id": "089df6d0",
   "metadata": {},
   "outputs": [
    {
     "name": "stdout",
     "output_type": "stream",
     "text": [
      "Number of duplicated rows after cleaning: 0\n"
     ]
    }
   ],
   "source": [
    "df = data.duplicated().sum()\n",
    "print(f\"Number of duplicated rows after cleaning: {num_duplicates_after}\")\n",
    "\n",
    "#Optionally, saving the cleaned dataset\n",
    "data.to_csv('walmart_sales_cleaned.csv', index=False)"
   ]
  },
  {
   "cell_type": "markdown",
   "id": "81af2cb7",
   "metadata": {},
   "source": [
    "## 4. Analyzing the performance of sales and revenue at the city and branch level"
   ]
  },
  {
   "cell_type": "code",
   "execution_count": 39,
   "id": "7bbd95e7",
   "metadata": {},
   "outputs": [
    {
     "name": "stdout",
     "output_type": "stream",
     "text": [
      "    Invoice ID Branch       City Customer type  Gender  \\\n",
      "0  750-67-8428      A     Yangon        Member  Female   \n",
      "1  226-31-3081      A  Naypyitaw        Normal  Female   \n",
      "2  631-41-3108      A     Yangon        Normal    Male   \n",
      "3  123-19-1176      B     Yangon        Member    Male   \n",
      "4  373-73-7910      C     Yangon        Normal    Male   \n",
      "\n",
      "             Product line  Unit price  Quantity       Date   Time  ... Rating  \\\n",
      "0       Health and beauty       74.69       7.0   1/5/2019  13:08  ...    9.1   \n",
      "1  Electronic accessories       15.28       5.0   3/8/2019  10:29  ...    9.6   \n",
      "2      Home and lifestyle       46.33       7.0   3/3/2019  13:23  ...    7.4   \n",
      "3       Health and beauty       58.22       8.0  1/27/2019  20:33  ...    8.4   \n",
      "4       Sports and travel       86.31       7.0   2/8/2019  10:37  ...    5.3   \n",
      "\n",
      "   Unnamed: 12  Unnamed: 13  Unnamed: 14  Unnamed: 15  Unnamed: 16  \\\n",
      "0          NaN          NaN          NaN          NaN          NaN   \n",
      "1          NaN          NaN          NaN          NaN          NaN   \n",
      "2          NaN          NaN          NaN          NaN          NaN   \n",
      "3          NaN          NaN          NaN          NaN          NaN   \n",
      "4          NaN          NaN          NaN          NaN          NaN   \n",
      "\n",
      "   Unnamed: 17  Unnamed: 18  Unnamed: 19  Unnamed: 20  \n",
      "0          NaN          NaN          NaN          NaN  \n",
      "1          NaN          NaN          NaN          NaN  \n",
      "2          NaN          NaN          NaN          NaN  \n",
      "3          NaN          NaN          NaN          NaN  \n",
      "4          NaN          NaN          NaN          NaN  \n",
      "\n",
      "[5 rows x 21 columns]\n",
      "Index(['Invoice ID', 'Branch', 'City', 'Customer type', 'Gender',\n",
      "       'Product line', 'Unit price', 'Quantity', 'Date', 'Time', 'Payment',\n",
      "       'Rating', 'Unnamed: 12', 'Unnamed: 13', 'Unnamed: 14', 'Unnamed: 15',\n",
      "       'Unnamed: 16', 'Unnamed: 17', 'Unnamed: 18', 'Unnamed: 19',\n",
      "       'Unnamed: 20'],\n",
      "      dtype='object')\n"
     ]
    }
   ],
   "source": [
    "#Displaying the first few rows to verify the column names\n",
    "print(data.head())\n",
    "print(data.columns)"
   ]
  },
  {
   "cell_type": "code",
   "execution_count": 40,
   "id": "16cb159d",
   "metadata": {},
   "outputs": [
    {
     "name": "stdout",
     "output_type": "stream",
     "text": [
      "        City Branch  Total_Sales  Total_Revenue\n",
      "0   Mandalay      A        637.0       34130.09\n",
      "1   Mandalay      B        664.0       37215.93\n",
      "2   Mandalay      C        519.0       29794.62\n",
      "3  Naypyitaw      A        648.0       35985.64\n",
      "4  Naypyitaw      B        604.0       35157.75\n",
      "5  Naypyitaw      C        579.0       34160.14\n",
      "6     Yangon      A        598.0       33647.27\n",
      "7     Yangon      B        631.0       35193.51\n",
      "8     Yangon      C        630.0       32302.43\n"
     ]
    }
   ],
   "source": [
    "#Calculating total revenue\n",
    "data['Total_Revenue'] = data['Unit price'] * data['Quantity']\n",
    "\n",
    "#Grouping by city and branch to get total sales and revenue\n",
    "city_branch_sales = data.groupby(['City', 'Branch']).agg({\n",
    "    'Quantity': 'sum',\n",
    "    'Total_Revenue': 'sum'\n",
    "}).reset_index()\n",
    "\n",
    "city_branch_sales.rename(columns={'Quantity': 'Total_Sales'}, inplace=True)\n",
    "print(city_branch_sales)"
   ]
  },
  {
   "cell_type": "markdown",
   "id": "0fe4a488",
   "metadata": {},
   "source": [
    "## 5. The average price of an item sold at each branch of the city"
   ]
  },
  {
   "cell_type": "code",
   "execution_count": 41,
   "id": "6efae450",
   "metadata": {},
   "outputs": [
    {
     "name": "stdout",
     "output_type": "stream",
     "text": [
      "        City Branch  Average_Price_per_Item\n",
      "0   Mandalay      A               53.353866\n",
      "1   Mandalay      B               56.133305\n",
      "2   Mandalay      C               57.958316\n",
      "3  Naypyitaw      A               54.123182\n",
      "4  Naypyitaw      B               57.785688\n",
      "5  Naypyitaw      C               57.941009\n",
      "6     Yangon      A               55.639298\n",
      "7     Yangon      B               56.011062\n",
      "8     Yangon      C               52.684602\n"
     ]
    }
   ],
   "source": [
    "#Calculating the average price per item sold at each branch\n",
    "data['Price_per_Item'] = data['Unit price']\n",
    "average_price_branch = data.groupby(['City', 'Branch'])['Price_per_Item'].mean().reset_index()\n",
    "average_price_branch.rename(columns={'Price_per_Item': 'Average_Price_per_Item'}, inplace=True)\n",
    "print(average_price_branch)"
   ]
  },
  {
   "cell_type": "markdown",
   "id": "796f795f",
   "metadata": {},
   "source": [
    "## 6. Analyzing the performance of sales and revenue, Month over Month across the Product line, Gender, and Payment Method, and identify the focus areas to get better sales for April 2019"
   ]
  },
  {
   "cell_type": "code",
   "execution_count": 42,
   "id": "894f6354",
   "metadata": {
    "scrolled": true
   },
   "outputs": [
    {
     "name": "stdout",
     "output_type": "stream",
     "text": [
      "       Month            Product line  Gender      Payment  Total_Sales  \\\n",
      "0    2019-01  Electronic accessories  Female         Cash         52.0   \n",
      "1    2019-01  Electronic accessories  Female  Credit card         54.0   \n",
      "2    2019-01  Electronic accessories  Female      Ewallet         43.0   \n",
      "3    2019-01  Electronic accessories    Male         Cash         62.0   \n",
      "4    2019-01  Electronic accessories    Male  Credit card         43.0   \n",
      "..       ...                     ...     ...          ...          ...   \n",
      "103  2019-03       Sports and travel  Female  Credit card         52.0   \n",
      "104  2019-03       Sports and travel  Female      Ewallet         53.0   \n",
      "105  2019-03       Sports and travel    Male         Cash         36.0   \n",
      "106  2019-03       Sports and travel    Male  Credit card         60.0   \n",
      "107  2019-03       Sports and travel    Male      Ewallet         86.0   \n",
      "\n",
      "     Total_Revenue  \n",
      "0          2731.86  \n",
      "1          3045.42  \n",
      "2          1576.48  \n",
      "3          3380.29  \n",
      "4          2248.65  \n",
      "..             ...  \n",
      "103        2863.86  \n",
      "104        3398.57  \n",
      "105        2084.19  \n",
      "106        3633.90  \n",
      "107        4930.61  \n",
      "\n",
      "[108 rows x 6 columns]\n",
      "Empty DataFrame\n",
      "Columns: [Month, Product line, Gender, Payment, Total_Sales, Total_Revenue]\n",
      "Index: []\n"
     ]
    }
   ],
   "source": [
    "#Converting Date column to datetime format\n",
    "data['Date'] = pd.to_datetime(data['Date'])\n",
    "\n",
    "#Extracting month and year from the Date column\n",
    "data['Month'] = data['Date'].dt.to_period('M')\n",
    "\n",
    "#Grouping by Month, Product line, Gender, and Payment to get total sales and revenue\n",
    "monthly_analysis = data.groupby(['Month', 'Product line', 'Gender', 'Payment']).agg({\n",
    "    'Quantity': 'sum',\n",
    "    'Total_Revenue': 'sum'\n",
    "}).reset_index()\n",
    "\n",
    "monthly_analysis.rename(columns={'Quantity': 'Total_Sales'}, inplace=True)\n",
    "print(monthly_analysis)\n",
    "\n",
    "#Filtering data for April 2019\n",
    "april_2019_analysis = monthly_analysis[monthly_analysis['Month'] == '2019-04']\n",
    "print(april_2019_analysis)"
   ]
  },
  {
   "cell_type": "code",
   "execution_count": 44,
   "id": "ccce2f5f",
   "metadata": {},
   "outputs": [],
   "source": [
    "# Save results to CSV files\n",
    "city_branch_sales.to_csv('city_branch_sales.csv', index=False)\n",
    "average_price_branch.to_csv('average_price_branch.csv', index=False)\n",
    "april_2019_analysis.to_csv('april_2019_analysis.csv', index=False)\n"
   ]
  }
 ],
 "metadata": {
  "kernelspec": {
   "display_name": "Python 3 (ipykernel)",
   "language": "python",
   "name": "python3"
  },
  "language_info": {
   "codemirror_mode": {
    "name": "ipython",
    "version": 3
   },
   "file_extension": ".py",
   "mimetype": "text/x-python",
   "name": "python",
   "nbconvert_exporter": "python",
   "pygments_lexer": "ipython3",
   "version": "3.11.3"
  }
 },
 "nbformat": 4,
 "nbformat_minor": 5
}
